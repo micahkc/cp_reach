{
 "cells": [
  {
   "cell_type": "code",
   "execution_count": null,
   "id": "e91aea31-ec47-4090-afdc-81a6537bd1fe",
   "metadata": {},
   "outputs": [],
   "source": [
    "import sys\n",
    "sys.path.append('/home/abigaile-woodbury/Research/cp_reach')\n",
    "\n",
    "import numpy as np\n",
    "import matplotlib.pyplot as plt\n",
    "import json\n",
    "\n",
    "import cp_reach.sim.satellite_plan as sat_plan\n",
    "import cp_reach.satellite.sat_log_linearized as log_satellite\n",
    "import cp_reach.flowpipe.flowpipe as flowpipe"
   ]
  },
  {
   "cell_type": "code",
   "execution_count": null,
   "id": "deaa1a86-8c9d-4675-9b9d-23e567363cd2",
   "metadata": {},
   "outputs": [],
   "source": [
    "# Generate referennce trajectory\n",
    "ref = sat_plan.traj_profile()\n",
    "\n",
    "# Save trajectory\n",
    "no.savez(\"ref_satellite.npz\", **ref)"
   ]
  },
  {
   "cell_type": "code",
   "execution_count": null,
   "id": "4ceaab24-05e5-4965-bac6-12842a5097ca",
   "metadata": {},
   "outputs": [],
   "source": [
    "# Load ref and define disturbance config\n",
    "ref = dict(np.load(\"ref_satellite.npz\"))\n",
    "sat_config = {\n",
    "    'thrust_disturbance': 0.002,\n",
    "    'torque_disturbance': 0.0002,\n",
    "    'burn_time_disturbance': 0.0005\n",
    "}"
   ]
  },
  {
   "cell_type": "code",
   "execution_count": null,
   "id": "5870bea6-62d3-488d-b8ba-dd0c6e0cb835",
   "metadata": {},
   "outputs": [],
   "source": [
    "# Run disturbance and invariant set analysis\n",
    "results = log_satellite.disturance(sat_config)\n",
    "P_outer = results['outer_P']\n",
    "beta = results['outer_beta']\n",
    "inner_bound = results['inner_bound']"
   ]
  },
  {
   "cell_type": "code",
   "execution_count": null,
   "id": "1cfff0b6-a05f-4f33-8b39-84e5be4dba0e",
   "metadata": {},
   "outputs": [],
   "source": [
    "# Compute invariant points and flowpipe\n",
    "points, theta, _ = flowpipe.se23_invariant_set_points_theta(\n",
    "    sol = results,\n",
    "    N = 20,\n",
    "    w1 = sat_config['thrust_disturbance'],\n",
    "    omegabound = inner_bound,\n",
    "    beta = beta\n",
    ")\n",
    "inv_points = flowpipe.exp_map(points, theta)"
   ]
  },
  {
   "cell_type": "code",
   "execution_count": null,
   "id": "aca1ec17-30c8-475e-a7dc-ef3abe36f203",
   "metadata": {},
   "outputs": [],
   "source": [
    "print(lower_bound)"
   ]
  },
  {
   "cell_type": "code",
   "execution_count": null,
   "id": "f0c2c58e-c6b2-4cef-8ca6-06b6937ba21b",
   "metadata": {},
   "outputs": [],
   "source": [
    "print(upper_bound)"
   ]
  },
  {
   "cell_type": "code",
   "execution_count": null,
   "id": "0b1d1e41-58a1-4590-a718-06a580c79107",
   "metadata": {},
   "outputs": [],
   "source": [
    "print(inv_points)"
   ]
  },
  {
   "cell_type": "code",
   "execution_count": null,
   "id": "4b1054cb-2975-4d24-a5e0-ac258ea250cc",
   "metadata": {},
   "outputs": [],
   "source": [
    "# Visualize invariant set\n",
    "fig = plt.figure(figsize = (10, 6))\n",
    "ax = fig.add_subplot(11, projection = '3d')\n",
    "a.plot(inv_points[0, :], inv_points[1, :], inv_points[2, :], 'g')\n",
    "ax.set_title('SE(3) Invariant Set for Satellite')\n",
    "ax.set_xlabel('x [km]')\n",
    "ax.set_ylabel('y [km]')\n",
    "ax.set_zlabel('z [km]')\n",
    "plt.grid(True)\n",
    "plt.tight_layout()\n",
    "plt.show()"
   ]
  },
  {
   "cell_type": "code",
   "execution_count": null,
   "id": "83611262-2df8-4a5b-8eed-5de00e0a7b7f",
   "metadata": {},
   "outputs": [],
   "source": [
    "flowpipes_list, nominal_traj = flowpipe.flowpipes(\n",
    "    ref = ref,             # your dict with keys 'x', 'y', 'z'\n",
    "    step = 1,                # number of segments\n",
    "    w1 = sat_config['thrust_disturbance'],              # linear disturbance (scalar or vector)\n",
    "    omegabound = 1,     # angular disturbance (scalar or vector)\n",
    "    sol = results,             # output of SE23LMIs\n",
    "    axis = 'xy'            # 'xy' or 'xz'\n",
    ")\n",
    "\n",
    "flowpipe.plot_flowpipes(nominal_traj, flowpipes_list, axis = 'xy')"
   ]
  },
  {
   "cell_type": "code",
   "execution_count": null,
   "id": "ef300054-8747-4028-83a3-e4cc0cd344f1",
   "metadata": {},
   "outputs": [],
   "source": [
    "def plot2DInvSet(points, inv_points):\n",
    "    plt.figure(figsize=(14,7))\n",
    "    plt.rcParams.update({'font.size': 12})\n",
    "    ax1 = plt.subplot(121)\n",
    "    ax1.plot(points[0, :], points[1, :], 'g', label='with Dynamic Inversion')\n",
    "    ax1.set_xlabel('$\\\\zeta_x$, m')\n",
    "    ax1.set_ylabel('$\\\\zeta_y$, m')\n",
    "\n",
    "    plt.axis('equal')\n",
    "    plt.grid(True)\n",
    "    \n",
    "    ax2 = plt.subplot(122)\n",
    "    ax2.plot(inv_points[0, :-1], inv_points[1, :-1], 'g', label='with Dynamic Inversion')\n",
    "    \n",
    "    ax2.set_xlabel('$\\\\eta_x$, m')\n",
    "    ax2.set_ylabel('$\\\\eta_y$, m')\n",
    "    plt.grid(True)\n",
    "\n",
    "    plt.axis('equal')\n",
    "    plt.tight_layout()\n",
    "    ax1.set_title('Invariant Set in Lie Algebra', fontsize=20)\n",
    "    ax2.set_title('Invariant Set in Lie Group', fontsize=20)"
   ]
  },
  {
   "cell_type": "code",
   "execution_count": null,
   "id": "f626890e-cbaf-4397-8e6b-0dbd581323c2",
   "metadata": {},
   "outputs": [],
   "source": [
    "def plot2DInvSet(points, inv_points, ref_traj=None, save_path=None):\n",
    "    \"\"\"\n",
    "    Plot 2D projections of invariant sets in Lie algebra and Lie group.\n",
    "\n",
    "    Parameters:\n",
    "        points      : np.ndarray (6×N), points in the Lie algebra\n",
    "        inv_points  : np.ndarray (6×N), exponential map of points (Lie group)\n",
    "        ref_traj    : np.ndarray (optional), shape (2×T), reference trajectory [x, y]\n",
    "        save_path   : str (optional), if provided saves the figure to this path\n",
    "    \"\"\"\n",
    "\n",
    "    plt.figure(figsize=(14, 6))\n",
    "    plt.rcParams.update({'font.size': 12})\n",
    "\n",
    "    # --- Lie Algebra Plot ---\n",
    "    ax1 = plt.subplot(1, 2, 1)\n",
    "    ax1.plot(points[0], points[1], 'g', label='Invariant Set (Lie Algebra)')\n",
    "    ax1.set_xlabel(r'$\\zeta_x$ [m]')\n",
    "    ax1.set_ylabel(r'$\\zeta_y$ [m]')\n",
    "    ax1.set_title('Invariant Set in Lie Algebra', fontsize=16)\n",
    "    ax1.axis('equal')\n",
    "    ax1.grid(True)\n",
    "    ax1.legend()\n",
    "\n",
    "    # --- Lie Group Plot ---\n",
    "    ax2 = plt.subplot(1, 2, 2)\n",
    "    ax2.plot(inv_points[0], inv_points[1], 'g', label='Invariant Set (Lie Group)')\n",
    "\n",
    "    # Optional reference trajectory\n",
    "    if ref_traj is not None:\n",
    "        ax2.plot(ref_traj[0], ref_traj[1], 'k--', label='Reference Trajectory')\n",
    "\n",
    "    ax2.set_xlabel(r'$\\eta_x$ [m]')\n",
    "    ax2.set_ylabel(r'$\\eta_y$ [m]')\n",
    "    ax2.set_title('Invariant Set in Lie Group', fontsize=16)\n",
    "    ax2.axis('equal')\n",
    "    ax2.grid(True)\n",
    "    ax2.legend()\n",
    "\n",
    "    plt.tight_layout()"
   ]
  },
  {
   "cell_type": "code",
   "execution_count": null,
   "id": "7ed86e5e-d625-41f3-93df-cce7dd0b8e2a",
   "metadata": {},
   "outputs": [],
   "source": [
    "plot2DInvSet(points_algebra,inv_points)"
   ]
  },
  {
   "cell_type": "code",
   "execution_count": null,
   "id": "30183473-cd7e-45d0-bbc7-464267d1bef4",
   "metadata": {},
   "outputs": [],
   "source": [
    "def plot3DInvSet(points, inv_points):\n",
    "    plt.figure(figsize=(14,7))\n",
    "    ax1 = plt.subplot(121, projection='3d', proj_type='ortho', elev=40, azim=20)\n",
    "    ax1.plot3D(points[0, :], points[1, :], points[2, :],'g', label='with Dynamic Inversion')\n",
    "    ax1.set_xlabel('$\\\\zeta_x$, m')\n",
    "    ax1.set_ylabel('$\\\\zeta_y$, m')\n",
    "    ax1.set_zlabel('$\\\\zeta_z$, rad', labelpad=1)\n",
    "    ax1.set_title('Invariant Set in Lie Algebra', fontsize=20)\n",
    "\n",
    "    plt.axis('auto')\n",
    "    plt.tight_layout(pad=0.4, w_pad=0.5, h_pad=1.0)\n",
    "\n",
    "    ax2 = plt.subplot(122, projection='3d', proj_type='ortho', elev=40, azim=20)\n",
    "\n",
    "    ax2.plot3D(inv_points[0, :], inv_points[1, :], inv_points[2, :], 'g', label='with Dynamic Inversion')\n",
    "\n",
    "    ax2.set_xlabel('$\\\\eta_x$, m')\n",
    "    ax2.set_ylabel('$\\\\eta_y$, m')\n",
    "    ax2.set_zlabel('$\\\\eta_z$, rad')\n",
    "    ax2.set_title('Invariant Set in Lie Group', fontsize=20)\n",
    "    plt.axis('auto')\n",
    "    plt.subplots_adjust(left=0.45, right=1, top=0.5, bottom=0.08)\n",
    "\n",
    "    plt.tight_layout()"
   ]
  },
  {
   "cell_type": "code",
   "execution_count": null,
   "id": "29860f0a-9941-4fbf-a806-c6a835b2ab38",
   "metadata": {},
   "outputs": [],
   "source": [
    "plot3DInvSet(points_algebra, inv_points)"
   ]
  },
  {
   "cell_type": "code",
   "execution_count": null,
   "id": "805c5736-6b65-44f2-9ee9-0caf78ad105a",
   "metadata": {},
   "outputs": [],
   "source": [
    "def plot_hull(ref, num_pipes, ebeta, w1, omegabound, sol_LMI, 'xy')\n",
    "    # Calculate convex hull for flow pipes\n",
    "    flowpipes_traj, intervalhull_traj, nom_traj, t_vect = flowpipe.flowpipes(ref, num_pipes, ebeta, w1, omegabound, sol_LMI, 'xy')\n",
    "    plt.savefig('fig/interval_hull.png')\n",
    "    plt.close()\n",
    "    \n",
    "    print(\"plotting flow pipes\")\n",
    "    print(datetime.datetime.now())\n",
    "    print('plotting flow pipes')\n",
    "    flowpipe.plot_flowpipes(nom_traj, flowpipes_traj, num_pipes, 'xy')\n",
    "    plt.savefig('fig/flow_pipes.png')\n",
    "    # plt.savefig(\"/home/micah/example/flow_pipes.png\")\n",
    "    plt.close()\n",
    "    \n",
    "    print('plotting sim')\n",
    "    print(datetime.datetime.now())\n",
    "    mr_control.plot_sim(ref, w1, omegabound, flowpipes_traj, n, 'xy')\n",
    "    print(\"done plotting sim\")\n",
    "    print(datetime.datetime.now())\n",
    "    # print('plotting time history')\n",
    "    # plot_timehis(sol_LMI, ref, w1, w2, 40, ebeta)"
   ]
  }
 ],
 "metadata": {
  "kernelspec": {
   "display_name": "Python 3 (ipykernel)",
   "language": "python",
   "name": "python3"
  },
  "language_info": {
   "codemirror_mode": {
    "name": "ipython",
    "version": 3
   },
   "file_extension": ".py",
   "mimetype": "text/x-python",
   "name": "python",
   "nbconvert_exporter": "python",
   "pygments_lexer": "ipython3",
   "version": "3.12.11"
  }
 },
 "nbformat": 4,
 "nbformat_minor": 5
}
