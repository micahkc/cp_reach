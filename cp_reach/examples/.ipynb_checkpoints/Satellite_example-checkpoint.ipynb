{
 "cells": [
  {
   "cell_type": "code",
   "execution_count": 1,
   "id": "0413d30c",
   "metadata": {},
   "outputs": [],
   "source": [
    "import sys\n",
    "# sys.path.append('/home/abigaile-woodbury/Research/cp_reach')  # UPDATE path as needed\n",
    "sys.path.append('/home/micah/Research/development/cp_reach')\n",
    "import json\n",
    "import numpy as np\n",
    "import matplotlib.pyplot as plt\n",
    "import cp_reach as cp\n",
    "\n",
    "import cp_reach.satellite.invariant_set\n",
    "import cp_reach.utils.plotting"
   ]
  },
  {
   "cell_type": "code",
   "execution_count": 2,
   "id": "afbb9037",
   "metadata": {},
   "outputs": [],
   "source": [
    "# # Generate reference trajectory for satellite\n",
    "# ref = sat_plan.orbit_trajectory()\n",
    "# np.savez(\"ref_satellite.npz\", **ref)"
   ]
  },
  {
   "cell_type": "code",
   "execution_count": 3,
   "id": "0171b73b",
   "metadata": {},
   "outputs": [],
   "source": [
    "# # Load reference + define disturbances\n",
    "# ref = dict(np.load(\"ref_satellite.npz\"))\n",
    "# satellite_config = {\n",
    "#     'thrust_disturbance': 0.002,\n",
    "#     'torque_disturbance': 0.0002,\n",
    "#     'burn_time_disturbance': 0.0005\n",
    "# }\n"
   ]
  },
  {
   "cell_type": "code",
   "execution_count": 2,
   "id": "da256b51-88fe-418c-aec8-ffe73268fad4",
   "metadata": {},
   "outputs": [],
   "source": [
    "ref = None"
   ]
  },
  {
   "cell_type": "code",
   "execution_count": 5,
   "id": "e272bd0f-82cc-4817-bb68-46d109985c99",
   "metadata": {},
   "outputs": [],
   "source": [
    "ang_vel_points,lower_bound_omega,upper_bound_omega,omega_dist,dynamics_sol,inv_points,lower_bound,upper_bound,kinematics_sol = cp_reach.satellite.invariant_set.solve(2, 2, ref)"
   ]
  },
  {
   "cell_type": "code",
   "execution_count": 7,
   "id": "3b77e3d1-ff6c-4836-b95e-d81881350931",
   "metadata": {},
   "outputs": [
    {
     "name": "stdout",
     "output_type": "stream",
     "text": [
      "[-1.78237058 -1.61738113 -1.85956311 -3.12027374 -1.53062257 -3.11141198]\n",
      "[1.71717374 1.66206282 1.89043589 3.12577864 1.50648711 3.04592858]\n"
     ]
    }
   ],
   "source": [
    "print(lower_bound)\n",
    "print(upper_bound)"
   ]
  },
  {
   "cell_type": "code",
   "execution_count": 4,
   "id": "bca9a776",
   "metadata": {},
   "outputs": [
    {
     "ename": "TypeError",
     "evalue": "disturbance() missing 1 required positional argument: 'ref'",
     "output_type": "error",
     "traceback": [
      "\u001b[31m---------------------------------------------------------------------------\u001b[39m",
      "\u001b[31mTypeError\u001b[39m                                 Traceback (most recent call last)",
      "\u001b[36mCell\u001b[39m\u001b[36m \u001b[39m\u001b[32mIn[4]\u001b[39m\u001b[32m, line 2\u001b[39m\n\u001b[32m      1\u001b[39m \u001b[38;5;66;03m# Run disturbance + Lyapunov-based reachability bounds\u001b[39;00m\n\u001b[32m----> \u001b[39m\u001b[32m2\u001b[39m results = \u001b[43mlog_satellite\u001b[49m\u001b[43m.\u001b[49m\u001b[43mdisturbance\u001b[49m\u001b[43m(\u001b[49m\u001b[43msatellite_config\u001b[49m\u001b[43m)\u001b[49m\n\u001b[32m      4\u001b[39m \u001b[38;5;28mprint\u001b[39m(\u001b[33m\"\u001b[39m\u001b[33mInner Bound (SO3):\u001b[39m\u001b[33m\"\u001b[39m, results[\u001b[33m'\u001b[39m\u001b[33mmu_inner\u001b[39m\u001b[33m'\u001b[39m])\n\u001b[32m      5\u001b[39m \u001b[38;5;28mprint\u001b[39m(\u001b[33m\"\u001b[39m\u001b[33mOuter Bound (SE3):\u001b[39m\u001b[33m\"\u001b[39m, results[\u001b[33m'\u001b[39m\u001b[33mmu_outer\u001b[39m\u001b[33m'\u001b[39m])\n",
      "\u001b[31mTypeError\u001b[39m: disturbance() missing 1 required positional argument: 'ref'"
     ]
    }
   ],
   "source": [
    "# Run disturbance + Lyapunov-based reachability bounds\n",
    "results = log_satellite.disturbance(satellite_config)\n",
    "\n",
    "print(\"Inner Bound (SO3):\", results['mu_inner'])\n",
    "print(\"Outer Bound (SE3):\", results['mu_outer'])\n",
    "print(\"Omega Bound:\", results['inner_bound'])\n"
   ]
  },
  {
   "cell_type": "code",
   "execution_count": null,
   "id": "635fd4a8",
   "metadata": {},
   "outputs": [],
   "source": [
    "# Compute invariant points in SE(3)\n",
    "points, theta = flowpipe.se23_invariant_set_points_theta(\n",
    "    sol=results,\n",
    "    N=20,\n",
    "    w1=satellite_config['thrust_disturbance'],\n",
    "    omegabound=results['inner_bound'],\n",
    "    beta=results['outer_beta']\n",
    ")\n",
    "inv_points = flowpipe.exp_map(points, theta)\n"
   ]
  },
  {
   "cell_type": "code",
   "execution_count": null,
   "id": "3711e1ef",
   "metadata": {},
   "outputs": [],
   "source": [
    "# Plot invariant set\n",
    "def plot2DInvSet(points, inv_points):\n",
    "    plt.figure(figsize=(14, 7))\n",
    "    plt.rcParams.update({'font.size': 12})\n",
    "\n",
    "    ax1 = plt.subplot(121)\n",
    "    ax1.plot(points[0, :], points[1, :], 'g')\n",
    "    ax1.set_xlabel(r'$\\zeta_x$ [km]')\n",
    "    ax1.set_ylabel(r'$\\zeta_y$ [km]')\n",
    "    ax1.set_title('Lie Algebra (log map)')\n",
    "    ax1.axis('equal')\n",
    "    ax1.grid(True)\n",
    "\n",
    "    ax2 = plt.subplot(122)\n",
    "    ax2.plot(inv_points[0, :], inv_points[1, :], 'g')\n",
    "    ax2.set_xlabel(r'$\\eta_x$ [km]')\n",
    "    ax2.set_ylabel(r'$\\eta_y$ [km]')\n",
    "    ax2.set_title('Lie Group (exp map)')\n",
    "    ax2.axis('equal')\n",
    "    ax2.grid(True)\n",
    "\n",
    "    plt.tight_layout()\n",
    "    plt.show()\n",
    "\n",
    "plot2DInvSet(points, inv_points)\n"
   ]
  },
  {
   "cell_type": "code",
   "execution_count": null,
   "id": "bab5e76c",
   "metadata": {},
   "outputs": [],
   "source": [
    "# Generate flowpipes and plot\n",
    "flowpipes_list, nominal_traj = flowpipe.flowpipes(\n",
    "    ref=ref,\n",
    "    step=1,\n",
    "    w1=satellite_config['thrust_disturbance'],\n",
    "    omegabound=1,\n",
    "    sol=results,\n",
    "    axis='xy'\n",
    ")\n",
    "\n",
    "flowpipe.plot_flowpipes(nominal_traj, flowpipes_list, axis='xy')\n"
   ]
  },
  {
   "cell_type": "code",
   "execution_count": 2,
   "id": "3531958a-9555-42b8-a031-c4127c19ebfd",
   "metadata": {},
   "outputs": [
    {
     "name": "stdout",
     "output_type": "stream",
     "text": [
      "__init__.py in cp_reach: True\n",
      "__init__.py in sim: True\n",
      "__init__.py in satellite: True\n",
      "__init__.py in flowpipe: True\n"
     ]
    }
   ],
   "source": [
    "import os\n",
    "\n",
    "base = '/home/abigaile-woodbury/Research/cp_reach/cp_reach'\n",
    "print('__init__.py in cp_reach:', os.path.isfile(f'{base}/__init__.py'))\n",
    "print('__init__.py in sim:', os.path.isfile(f'{base}/sim/__init__.py'))\n",
    "print('__init__.py in satellite:', os.path.isfile(f'{base}/satellite/__init__.py'))\n",
    "print('__init__.py in flowpipe:', os.path.isfile(f'{base}/flowpipe/__init__.py'))\n"
   ]
  },
  {
   "cell_type": "code",
   "execution_count": null,
   "id": "15f650c5-e9ae-44d7-8cff-5f2417dcde23",
   "metadata": {},
   "outputs": [],
   "source": []
  }
 ],
 "metadata": {
  "kernelspec": {
   "display_name": "Reach",
   "language": "python",
   "name": "reach"
  },
  "language_info": {
   "codemirror_mode": {
    "name": "ipython",
    "version": 3
   },
   "file_extension": ".py",
   "mimetype": "text/x-python",
   "name": "python",
   "nbconvert_exporter": "python",
   "pygments_lexer": "ipython3",
   "version": "3.11.13"
  }
 },
 "nbformat": 4,
 "nbformat_minor": 5
}
