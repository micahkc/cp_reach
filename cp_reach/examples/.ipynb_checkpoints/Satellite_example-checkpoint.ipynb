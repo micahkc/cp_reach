{
 "cells": [
  {
   "cell_type": "code",
   "execution_count": 1,
   "id": "0413d30c",
   "metadata": {},
   "outputs": [
    {
     "ename": "ModuleNotFoundError",
     "evalue": "No module named 'cp_reach.sim.satellite_plan'",
     "output_type": "error",
     "traceback": [
      "\u001b[31m---------------------------------------------------------------------------\u001b[39m",
      "\u001b[31mModuleNotFoundError\u001b[39m                       Traceback (most recent call last)",
      "\u001b[36mCell\u001b[39m\u001b[36m \u001b[39m\u001b[32mIn[1]\u001b[39m\u001b[32m, line 10\u001b[39m\n\u001b[32m      7\u001b[39m \u001b[38;5;28;01mimport\u001b[39;00m\u001b[38;5;250m \u001b[39m\u001b[34;01mcp_reach\u001b[39;00m\u001b[38;5;250m \u001b[39m\u001b[38;5;28;01mas\u001b[39;00m\u001b[38;5;250m \u001b[39m\u001b[34;01mcp\u001b[39;00m\n\u001b[32m      8\u001b[39m cp\n\u001b[32m---> \u001b[39m\u001b[32m10\u001b[39m \u001b[38;5;28;01mimport\u001b[39;00m\u001b[38;5;250m \u001b[39m\u001b[34;01mcp_reach\u001b[39;00m\u001b[34;01m.\u001b[39;00m\u001b[34;01msim\u001b[39;00m\u001b[34;01m.\u001b[39;00m\u001b[34;01msatellite_plan\u001b[39;00m\u001b[38;5;250m \u001b[39m\u001b[38;5;28;01mas\u001b[39;00m\u001b[38;5;250m \u001b[39m\u001b[34;01msat_plan\u001b[39;00m\n\u001b[32m     11\u001b[39m \u001b[38;5;28;01mimport\u001b[39;00m\u001b[38;5;250m \u001b[39m\u001b[34;01mcp_reach\u001b[39;00m\u001b[34;01m.\u001b[39;00m\u001b[34;01manalysis\u001b[39;00m\u001b[34;01m.\u001b[39;00m\u001b[34;01mlog_satellite\u001b[39;00m\u001b[38;5;250m \u001b[39m\u001b[38;5;28;01mas\u001b[39;00m\u001b[38;5;250m \u001b[39m\u001b[34;01mlog_satellite\u001b[39;00m\n\u001b[32m     12\u001b[39m \u001b[38;5;28;01mimport\u001b[39;00m\u001b[38;5;250m \u001b[39m\u001b[34;01mcp_reach\u001b[39;00m\u001b[34;01m.\u001b[39;00m\u001b[34;01mflowpipe\u001b[39;00m\u001b[34;01m.\u001b[39;00m\u001b[34;01mflowpipe\u001b[39;00m\u001b[38;5;250m \u001b[39m\u001b[38;5;28;01mas\u001b[39;00m\u001b[38;5;250m \u001b[39m\u001b[34;01mflowpipe\u001b[39;00m\n",
      "\u001b[31mModuleNotFoundError\u001b[39m: No module named 'cp_reach.sim.satellite_plan'"
     ]
    }
   ],
   "source": [
    "import sys\n",
    "sys.path.append('/home/abigaile-woodbury/Research/cp_rea')  # UPDATE path as needed\n",
    "\n",
    "import json\n",
    "import numpy as np\n",
    "import matplotlib.pyplot as plt\n",
    "import cp_reach as cp\n",
    "cp\n",
    "\n",
    "import cp_reach.sim.satellite_plan as sat_plan\n",
    "import cp_reach.analysis.log_satellite as log_satellite\n",
    "import cp_reach.flowpipe.flowpipe as flowpipe"
   ]
  },
  {
   "cell_type": "code",
   "execution_count": null,
   "id": "afbb9037",
   "metadata": {},
   "outputs": [],
   "source": [
    "# Generate reference trajectory for satellite\n",
    "ref = sat_plan.traj_profile()\n",
    "np.savez(\"ref_satellite.npz\", **ref)\n"
   ]
  },
  {
   "cell_type": "code",
   "execution_count": null,
   "id": "0171b73b",
   "metadata": {},
   "outputs": [],
   "source": [
    "# Load reference + define disturbances\n",
    "ref = dict(np.load(\"ref_satellite.npz\"))\n",
    "satellite_config = {\n",
    "    'thrust_disturbance': 0.002,\n",
    "    'torque_disturbance': 0.0002,\n",
    "    'burn_time_disturbance': 0.0005\n",
    "}\n"
   ]
  },
  {
   "cell_type": "code",
   "execution_count": null,
   "id": "bca9a776",
   "metadata": {},
   "outputs": [],
   "source": [
    "# Run disturbance + Lyapunov-based reachability bounds\n",
    "results = log_satellite.disturbance(satellite_config)\n",
    "\n",
    "print(\"Inner Bound (SO3):\", results['mu_inner'])\n",
    "print(\"Outer Bound (SE3):\", results['mu_outer'])\n",
    "print(\"Omega Bound:\", results['inner_bound'])\n"
   ]
  },
  {
   "cell_type": "code",
   "execution_count": null,
   "id": "635fd4a8",
   "metadata": {},
   "outputs": [],
   "source": [
    "# Compute invariant points in SE(3)\n",
    "points, theta = flowpipe.se23_invariant_set_points_theta(\n",
    "    sol=results,\n",
    "    N=20,\n",
    "    w1=satellite_config['thrust_disturbance'],\n",
    "    omegabound=results['inner_bound'],\n",
    "    beta=results['outer_beta']\n",
    ")\n",
    "inv_points = flowpipe.exp_map(points, theta)\n"
   ]
  },
  {
   "cell_type": "code",
   "execution_count": null,
   "id": "3711e1ef",
   "metadata": {},
   "outputs": [],
   "source": [
    "# Plot invariant set\n",
    "def plot2DInvSet(points, inv_points):\n",
    "    plt.figure(figsize=(14, 7))\n",
    "    plt.rcParams.update({'font.size': 12})\n",
    "\n",
    "    ax1 = plt.subplot(121)\n",
    "    ax1.plot(points[0, :], points[1, :], 'g')\n",
    "    ax1.set_xlabel(r'$\\zeta_x$ [km]')\n",
    "    ax1.set_ylabel(r'$\\zeta_y$ [km]')\n",
    "    ax1.set_title('Lie Algebra (log map)')\n",
    "    ax1.axis('equal')\n",
    "    ax1.grid(True)\n",
    "\n",
    "    ax2 = plt.subplot(122)\n",
    "    ax2.plot(inv_points[0, :], inv_points[1, :], 'g')\n",
    "    ax2.set_xlabel(r'$\\eta_x$ [km]')\n",
    "    ax2.set_ylabel(r'$\\eta_y$ [km]')\n",
    "    ax2.set_title('Lie Group (exp map)')\n",
    "    ax2.axis('equal')\n",
    "    ax2.grid(True)\n",
    "\n",
    "    plt.tight_layout()\n",
    "    plt.show()\n",
    "\n",
    "plot2DInvSet(points, inv_points)\n"
   ]
  },
  {
   "cell_type": "code",
   "execution_count": null,
   "id": "bab5e76c",
   "metadata": {},
   "outputs": [],
   "source": [
    "# Generate flowpipes and plot\n",
    "flowpipes_list, nominal_traj = flowpipe.flowpipes(\n",
    "    ref=ref,\n",
    "    step=1,\n",
    "    w1=satellite_config['thrust_disturbance'],\n",
    "    omegabound=1,\n",
    "    sol=results,\n",
    "    axis='xy'\n",
    ")\n",
    "\n",
    "flowpipe.plot_flowpipes(nominal_traj, flowpipes_list, axis='xy')\n"
   ]
  },
  {
   "cell_type": "code",
   "execution_count": 2,
   "id": "3531958a-9555-42b8-a031-c4127c19ebfd",
   "metadata": {},
   "outputs": [
    {
     "name": "stdout",
     "output_type": "stream",
     "text": [
      "__init__.py in cp_reach: True\n",
      "__init__.py in sim: True\n",
      "__init__.py in satellite: True\n",
      "__init__.py in flowpipe: True\n"
     ]
    }
   ],
   "source": [
    "import os\n",
    "\n",
    "base = '/home/abigaile-woodbury/Research/cp_reach/cp_reach'\n",
    "print('__init__.py in cp_reach:', os.path.isfile(f'{base}/__init__.py'))\n",
    "print('__init__.py in sim:', os.path.isfile(f'{base}/sim/__init__.py'))\n",
    "print('__init__.py in satellite:', os.path.isfile(f'{base}/satellite/__init__.py'))\n",
    "print('__init__.py in flowpipe:', os.path.isfile(f'{base}/flowpipe/__init__.py'))\n"
   ]
  },
  {
   "cell_type": "code",
   "execution_count": null,
   "id": "15f650c5-e9ae-44d7-8cff-5f2417dcde23",
   "metadata": {},
   "outputs": [],
   "source": []
  }
 ],
 "metadata": {
  "kernelspec": {
   "display_name": "Python 3 (ipykernel)",
   "language": "python",
   "name": "python3"
  },
  "language_info": {
   "codemirror_mode": {
    "name": "ipython",
    "version": 3
   },
   "file_extension": ".py",
   "mimetype": "text/x-python",
   "name": "python",
   "nbconvert_exporter": "python",
   "pygments_lexer": "ipython3",
   "version": "3.12.11"
  }
 },
 "nbformat": 4,
 "nbformat_minor": 5
}
