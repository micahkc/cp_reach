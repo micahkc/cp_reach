{
 "cells": [
  {
   "cell_type": "code",
   "execution_count": 9,
   "id": "208ed552-ff38-4c47-9354-09d01c81d81a",
   "metadata": {},
   "outputs": [],
   "source": [
    "# For development only\n",
    "import sys\n",
    "sys.path.append('/home/micah/Research/development/cp_reach')"
   ]
  },
  {
   "cell_type": "markdown",
   "id": "ee1671d7-dd8a-4079-ace9-0c8ce3b6f118",
   "metadata": {},
   "source": [
    "## This Notebook indicates how to get the raw data for CP Analyze for a Quadrotor and hover."
   ]
  },
  {
   "cell_type": "code",
   "execution_count": 10,
   "id": "deb7d40c-650c-4f31-bd18-a44e7231bd5a",
   "metadata": {},
   "outputs": [],
   "source": [
    "import cp_reach.quadrotor.invariant_set"
   ]
  },
  {
   "cell_type": "markdown",
   "id": "0effc9eb-6f4e-4e49-8dbe-757126eeee25",
   "metadata": {},
   "source": [
    "## Set disturbance. Do not set to exactly zero for computational reasons"
   ]
  },
  {
   "cell_type": "code",
   "execution_count": 11,
   "id": "8a57528a-7353-4052-9407-c505e04092e9",
   "metadata": {},
   "outputs": [],
   "source": [
    "vel_dist = 0.0001\n",
    "accel_dist = 0.0001\n",
    "ang_accel_dist = 1"
   ]
  },
  {
   "cell_type": "code",
   "execution_count": 12,
   "id": "c7bcfc35-7a62-47d3-a039-dd6003aded1b",
   "metadata": {},
   "outputs": [],
   "source": [
    "(ang_vel_points,\n",
    "lower_bound_omega,\n",
    "upper_bound_omega,\n",
    "omega_dist,\n",
    "dynamics_sol,\n",
    "inv_points,\n",
    "lower_bound,\n",
    "upper_bound,\n",
    "kinematics_sol) = cp_reach.quadrotor.invariant_set.solve(vel_dist, accel_dist, ang_accel_dist, ref=None, dynamics_sol=None, kinematics_sol=None)"
   ]
  },
  {
   "cell_type": "markdown",
   "id": "b6b0a5e8-2813-4932-b836-41475bf4a7e5",
   "metadata": {},
   "source": [
    "## Angular velocity invariant set comes from inner loop"
   ]
  },
  {
   "cell_type": "code",
   "execution_count": 23,
   "id": "53fe0e77-65df-4f08-bcab-659befa851db",
   "metadata": {
    "scrolled": true
   },
   "outputs": [
    {
     "data": {
      "text/html": [
       "<div>\n",
       "<style scoped>\n",
       "    .dataframe tbody tr th:only-of-type {\n",
       "        vertical-align: middle;\n",
       "    }\n",
       "\n",
       "    .dataframe tbody tr th {\n",
       "        vertical-align: top;\n",
       "    }\n",
       "\n",
       "    .dataframe thead th {\n",
       "        text-align: right;\n",
       "    }\n",
       "</style>\n",
       "<table border=\"1\" class=\"dataframe\">\n",
       "  <thead>\n",
       "    <tr style=\"text-align: right;\">\n",
       "      <th></th>\n",
       "      <th>min $\\omega_x$</th>\n",
       "      <th>min $\\omega_y$</th>\n",
       "      <th>min $\\omega_z$</th>\n",
       "    </tr>\n",
       "  </thead>\n",
       "  <tbody>\n",
       "    <tr>\n",
       "      <th>0</th>\n",
       "      <td>-0.313913</td>\n",
       "      <td>-0.315301</td>\n",
       "      <td>-0.316228</td>\n",
       "    </tr>\n",
       "  </tbody>\n",
       "</table>\n",
       "</div>"
      ],
      "text/plain": [
       "   min $\\omega_x$  min $\\omega_y$  min $\\omega_z$\n",
       "0       -0.313913       -0.315301       -0.316228"
      ]
     },
     "execution_count": 23,
     "metadata": {},
     "output_type": "execute_result"
    }
   ],
   "source": [
    "import pandas as pd # For nice display in this example\n",
    "df = pd.DataFrame([lower_bound_omega], columns=[r'min $\\omega_x$', r'min $\\omega_y$', r'min $\\omega_z$'])\n",
    "df\n"
   ]
  },
  {
   "cell_type": "code",
   "execution_count": 26,
   "id": "d2643efa-e42a-4632-bba0-c6440dda4c51",
   "metadata": {},
   "outputs": [
    {
     "data": {
      "text/html": [
       "<div>\n",
       "<style scoped>\n",
       "    .dataframe tbody tr th:only-of-type {\n",
       "        vertical-align: middle;\n",
       "    }\n",
       "\n",
       "    .dataframe tbody tr th {\n",
       "        vertical-align: top;\n",
       "    }\n",
       "\n",
       "    .dataframe thead th {\n",
       "        text-align: right;\n",
       "    }\n",
       "</style>\n",
       "<table border=\"1\" class=\"dataframe\">\n",
       "  <thead>\n",
       "    <tr style=\"text-align: right;\">\n",
       "      <th></th>\n",
       "      <th>max $\\omega_x$</th>\n",
       "      <th>max $\\omega_y$</th>\n",
       "      <th>max $\\omega_z$</th>\n",
       "    </tr>\n",
       "  </thead>\n",
       "  <tbody>\n",
       "    <tr>\n",
       "      <th>0</th>\n",
       "      <td>0.315764</td>\n",
       "      <td>0.315301</td>\n",
       "      <td>0.316228</td>\n",
       "    </tr>\n",
       "  </tbody>\n",
       "</table>\n",
       "</div>"
      ],
      "text/plain": [
       "   max $\\omega_x$  max $\\omega_y$  max $\\omega_z$\n",
       "0        0.315764        0.315301        0.316228"
      ]
     },
     "execution_count": 26,
     "metadata": {},
     "output_type": "execute_result"
    }
   ],
   "source": [
    "import pandas as pd # For nice display in this example\n",
    "df = pd.DataFrame([upper_bound_omega], columns=[r'max $\\omega_x$', r'max $\\omega_y$', r'max $\\omega_z$'])\n",
    "df"
   ]
  },
  {
   "cell_type": "markdown",
   "id": "e5256b49-343e-442e-a58d-3423ff3a04ff",
   "metadata": {},
   "source": [
    "omega_dist is the infinity norm-based overapproximation of angular velocity.\n",
    "\n",
    "angular_vel_points defines the point cloud invariant set for angular velocity."
   ]
  },
  {
   "cell_type": "code",
   "execution_count": null,
   "id": "88ed3a2e-0c1c-4b94-98dc-d54998077b60",
   "metadata": {},
   "outputs": [],
   "source": []
  }
 ],
 "metadata": {
  "kernelspec": {
   "display_name": "Reach",
   "language": "python",
   "name": "reach"
  },
  "language_info": {
   "codemirror_mode": {
    "name": "ipython",
    "version": 3
   },
   "file_extension": ".py",
   "mimetype": "text/x-python",
   "name": "python",
   "nbconvert_exporter": "python",
   "pygments_lexer": "ipython3",
   "version": "3.11.13"
  }
 },
 "nbformat": 4,
 "nbformat_minor": 5
}
